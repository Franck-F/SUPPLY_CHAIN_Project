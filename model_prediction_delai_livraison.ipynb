
{
 "cells": [
  {
   "cell_type": "markdown",
   "metadata": {},
   "source": [
    "# 📦 Modèle de prédiction du délai de livraison fournisseur"
   ]
  },
  {
   "cell_type": "code",
   "execution_count": null,
   "metadata": {},
   "outputs": [],
   "source": [
    "import pandas as pd
",
    "from sklearn.model_selection import train_test_split
",
    "from sklearn.ensemble import RandomForestRegressor
",
    "from sklearn.metrics import mean_absolute_error, r2_score
",
    "from sklearn.preprocessing import OneHotEncoder
",
    "from sklearn.compose import ColumnTransformer
",
    "from sklearn.pipeline import Pipeline
",
    "import matplotlib.pyplot as plt
",
    "import seaborn as sns"
   ]
  },
  {
   "cell_type": "markdown",
   "metadata": {},
   "source": [
    "## 1. Chargement des données"
   ]
  },
  {
   "cell_type": "code",
   "execution_count": null,
   "metadata": {},
   "outputs": [],
   "source": [
    "achats = pd.read_csv("achats V2.csv", sep=";")
",
    "fournisseurs = pd.read_csv("fournisseurs.csv", sep=";")
",
    "produits = pd.read_csv("produits.csv", sep=";")"
   ]
  },
  {
   "cell_type": "markdown",
   "metadata": {},
   "source": [
    "## 2. Fusion des jeux de données"
   ]
  },
  {
   "cell_type": "code",
   "execution_count": null,
   "metadata": {},
   "outputs": [],
   "source": [
    "df = achats.merge(fournisseurs, on='id_fournisseur', how='left')
",
    "df = df.merge(produits, on='id_produit', how='left')"
   ]
  },
  {
   "cell_type": "markdown",
   "metadata": {},
   "source": [
    "## 3. Feature Engineering"
   ]
  },
  {
   "cell_type": "code",
   "execution_count": null,
   "metadata": {},
   "outputs": [],
   "source": [
    "df['date_achat'] = pd.to_datetime(df['date_achat'], errors='coerce')
",
    "df['annee'] = df['date_achat'].dt.year
",
    "df['mois'] = df['date_achat'].dt.month
",
    "df['jour_semaine'] = df['date_achat'].dt.dayofweek
",
    "df = df.dropna(subset=['delai_livraison_jours'])"
   ]
  },
  {
   "cell_type": "markdown",
   "metadata": {},
   "source": [
    "## 4. Sélection des variables"
   ]
  },
  {
   "cell_type": "code",
   "execution_count": null,
   "metadata": {},
   "outputs": [],
   "source": [
    "features = ['annee', 'mois', 'jour_semaine', 'nom_fournisseur', 'ville', 'pays', 'categorie', 'marque', 'quantite']
",
    "target = 'delai_livraison_jours'
",
    "X = df[features]
",
    "y = df[target]"
   ]
  },
  {
   "cell_type": "markdown",
   "metadata": {},
   "source": [
    "## 5. Pipeline de traitement et entraînement"
   ]
  },
  {
   "cell_type": "code",
   "execution_count": null,
   "metadata": {},
   "outputs": [],
   "source": [
    "cat_features = ['nom_fournisseur', 'ville', 'pays', 'categorie', 'marque']
",
    "num_features = ['annee', 'mois', 'jour_semaine', 'quantite']
",
    "
",
    "preprocessor = ColumnTransformer([
",
    "    ('cat', OneHotEncoder(handle_unknown='ignore'), cat_features)
",
    "], remainder='passthrough')
",
    "
",
    "model = Pipeline([
",
    "    ('prep', preprocessor),
",
    "    ('rf', RandomForestRegressor(n_estimators=100, random_state=42))
",
    "])
",
    "
",
    "X_train, X_test, y_train, y_test = train_test_split(X, y, test_size=0.2, random_state=42)
",
    "model.fit(X_train, y_train)"
   ]
  },
  {
   "cell_type": "markdown",
   "metadata": {},
   "source": [
    "## 6. Évaluation du modèle"
   ]
  },
  {
   "cell_type": "code",
   "execution_count": null,
   "metadata": {},
   "outputs": [],
   "source": [
    "y_pred = model.predict(X_test)
",
    "print("MAE:", mean_absolute_error(y_test, y_pred))
",
    "print("R² Score:", r2_score(y_test, y_pred))"
   ]
  }
 ],
 "metadata": {
  "kernelspec": {
   "display_name": "Python 3",
   "language": "python",
   "name": "python3"
  },
  "language_info": {
   "name": "python",
   "version": ""
  }
 },
 "nbformat": 4,
 "nbformat_minor": 5
}
